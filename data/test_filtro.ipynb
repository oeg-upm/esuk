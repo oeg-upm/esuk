{
  "nbformat": 4,
  "nbformat_minor": 0,
  "metadata": {
    "colab": {
      "provenance": []
    },
    "kernelspec": {
      "name": "python3",
      "display_name": "Python 3"
    },
    "language_info": {
      "name": "python"
    }
  },
  "cells": [
    {
      "cell_type": "code",
      "source": [
        "pip install patool"
      ],
      "metadata": {
        "colab": {
          "base_uri": "https://localhost:8080/"
        },
        "id": "kWMSnaqBqd_2",
        "outputId": "fffdf1b0-1552-45ca-b458-18bfb75468a5"
      },
      "execution_count": null,
      "outputs": [
        {
          "output_type": "stream",
          "name": "stdout",
          "text": [
            "Looking in indexes: https://pypi.org/simple, https://us-python.pkg.dev/colab-wheels/public/simple/\n",
            "Requirement already satisfied: patool in /usr/local/lib/python3.10/dist-packages (1.12)\n"
          ]
        }
      ]
    },
    {
      "cell_type": "code",
      "source": [
        "from google.colab import drive\n",
        "drive.mount('/content/drive')"
      ],
      "metadata": {
        "colab": {
          "base_uri": "https://localhost:8080/"
        },
        "id": "3edcZxXDqh7b",
        "outputId": "b880c875-c225-4fbc-b5dd-03072cd1bf9e"
      },
      "execution_count": null,
      "outputs": [
        {
          "output_type": "stream",
          "name": "stdout",
          "text": [
            "Mounted at /content/drive\n"
          ]
        }
      ]
    },
    {
      "cell_type": "code",
      "source": [
        "import shutil\n",
        "\n",
        "# Copia el archivo desde el drive al entorno de ejecucion\n",
        "\n",
        "shutil.copyfile(\"./drive/MyDrive/data/train.zip\",\"./train.zip\")"
      ],
      "metadata": {
        "colab": {
          "base_uri": "https://localhost:8080/",
          "height": 35
        },
        "id": "CEeldjjCqmuL",
        "outputId": "380b6927-f9ac-464e-cfa4-09c5a5158724"
      },
      "execution_count": null,
      "outputs": [
        {
          "output_type": "execute_result",
          "data": {
            "text/plain": [
              "'./train.zip'"
            ],
            "application/vnd.google.colaboratory.intrinsic+json": {
              "type": "string"
            }
          },
          "metadata": {},
          "execution_count": 5
        }
      ]
    },
    {
      "cell_type": "code",
      "source": [
        "import zipfile\n",
        "with zipfile.ZipFile(\"./train.zip\", 'r') as zip_ref:\n",
        "    zip_ref.extractall(\"train\")"
      ],
      "metadata": {
        "id": "EvMRFnl7qqfz"
      },
      "execution_count": null,
      "outputs": []
    },
    {
      "cell_type": "code",
      "execution_count": null,
      "metadata": {
        "id": "-EuFW0r9p2KW"
      },
      "outputs": [],
      "source": [
        "import pandas as pd\n",
        "df = pd.read_csv(\"700tokensVal.csv\", sep=\";\")\n",
        "df[\"summary\"]=df[\"1\"]\n",
        "df[\"article\"]=df[\"0\"]\n"
      ]
    },
    {
      "cell_type": "code",
      "source": [
        "df"
      ],
      "metadata": {
        "colab": {
          "base_uri": "https://localhost:8080/",
          "height": 424
        },
        "id": "zQQwonz3Fdt7",
        "outputId": "3457a3f5-34de-40be-edac-88f510ad142e"
      },
      "execution_count": null,
      "outputs": [
        {
          "output_type": "execute_result",
          "data": {
            "text/plain": [
              "       Unnamed: 0                                                  0  \\\n",
              "0               0  El Urbia Palma disputa hoy, a las 20:00 horas,...   \n",
              "1               1  El presidente de la Sociedad de Garantía Recíp...   \n",
              "2               2  Agentes de la Policía Nacional han detenido en...   \n",
              "3               3  Consumir ibuprofeno sin receta médica aumenta ...   \n",
              "4               4  Hay arroces y arroces, pero ¿cuántas veces te ...   \n",
              "...           ...                                                ...   \n",
              "42592       42592  Un equipo de investigadores canadienses ha enc...   \n",
              "42593       42593  Belén Canalejo, autora del exitoso blog Balamo...   \n",
              "42594       42594  La sociedad Azora cobrará 224,5 millones de eu...   \n",
              "42595       42595  Imagen correspondiente a los bombardeos sobre ...   \n",
              "42596       42596  El acuerdo de legislatura que han suscrito PSO...   \n",
              "\n",
              "                                                       1  \\\n",
              "0      El equipo de Marcos Dreyer afronta sin bajas u...   \n",
              "1      El presidente, José Roca, afirma que el ejecut...   \n",
              "2      Los detenidos la invitan a su domicilio y la e...   \n",
              "3      Un estudio realizado en Dinamarca alerta sobre...   \n",
              "4      Miquel Antoja te enseña paso a paso cómo hacer...   \n",
              "...                                                  ...   \n",
              "42592  El camu-camu contiene entre 20 y 30 veces más ...   \n",
              "42593  La autora del exitoso blog Balamoda.net nos of...   \n",
              "42594  La sociedad gestora pone fin a su contrato con...   \n",
              "42595  Los Comités de Coordinación Local aseguran que...   \n",
              "42596  El acuerdo de legislatura prevé bajar el IVA c...   \n",
              "\n",
              "                                                 summary  \\\n",
              "0      El equipo de Marcos Dreyer afronta sin bajas u...   \n",
              "1      El presidente, José Roca, afirma que el ejecut...   \n",
              "2      Los detenidos la invitan a su domicilio y la e...   \n",
              "3      Un estudio realizado en Dinamarca alerta sobre...   \n",
              "4      Miquel Antoja te enseña paso a paso cómo hacer...   \n",
              "...                                                  ...   \n",
              "42592  El camu-camu contiene entre 20 y 30 veces más ...   \n",
              "42593  La autora del exitoso blog Balamoda.net nos of...   \n",
              "42594  La sociedad gestora pone fin a su contrato con...   \n",
              "42595  Los Comités de Coordinación Local aseguran que...   \n",
              "42596  El acuerdo de legislatura prevé bajar el IVA c...   \n",
              "\n",
              "                                                 article  \n",
              "0      El Urbia Palma disputa hoy, a las 20:00 horas,...  \n",
              "1      El presidente de la Sociedad de Garantía Recíp...  \n",
              "2      Agentes de la Policía Nacional han detenido en...  \n",
              "3      Consumir ibuprofeno sin receta médica aumenta ...  \n",
              "4      Hay arroces y arroces, pero ¿cuántas veces te ...  \n",
              "...                                                  ...  \n",
              "42592  Un equipo de investigadores canadienses ha enc...  \n",
              "42593  Belén Canalejo, autora del exitoso blog Balamo...  \n",
              "42594  La sociedad Azora cobrará 224,5 millones de eu...  \n",
              "42595  Imagen correspondiente a los bombardeos sobre ...  \n",
              "42596  El acuerdo de legislatura que han suscrito PSO...  \n",
              "\n",
              "[42597 rows x 5 columns]"
            ],
            "text/html": [
              "\n",
              "  <div id=\"df-09e3bd51-d354-4e95-b195-ae15fc493dcb\">\n",
              "    <div class=\"colab-df-container\">\n",
              "      <div>\n",
              "<style scoped>\n",
              "    .dataframe tbody tr th:only-of-type {\n",
              "        vertical-align: middle;\n",
              "    }\n",
              "\n",
              "    .dataframe tbody tr th {\n",
              "        vertical-align: top;\n",
              "    }\n",
              "\n",
              "    .dataframe thead th {\n",
              "        text-align: right;\n",
              "    }\n",
              "</style>\n",
              "<table border=\"1\" class=\"dataframe\">\n",
              "  <thead>\n",
              "    <tr style=\"text-align: right;\">\n",
              "      <th></th>\n",
              "      <th>Unnamed: 0</th>\n",
              "      <th>0</th>\n",
              "      <th>1</th>\n",
              "      <th>summary</th>\n",
              "      <th>article</th>\n",
              "    </tr>\n",
              "  </thead>\n",
              "  <tbody>\n",
              "    <tr>\n",
              "      <th>0</th>\n",
              "      <td>0</td>\n",
              "      <td>El Urbia Palma disputa hoy, a las 20:00 horas,...</td>\n",
              "      <td>El equipo de Marcos Dreyer afronta sin bajas u...</td>\n",
              "      <td>El equipo de Marcos Dreyer afronta sin bajas u...</td>\n",
              "      <td>El Urbia Palma disputa hoy, a las 20:00 horas,...</td>\n",
              "    </tr>\n",
              "    <tr>\n",
              "      <th>1</th>\n",
              "      <td>1</td>\n",
              "      <td>El presidente de la Sociedad de Garantía Recíp...</td>\n",
              "      <td>El presidente, José Roca, afirma que el ejecut...</td>\n",
              "      <td>El presidente, José Roca, afirma que el ejecut...</td>\n",
              "      <td>El presidente de la Sociedad de Garantía Recíp...</td>\n",
              "    </tr>\n",
              "    <tr>\n",
              "      <th>2</th>\n",
              "      <td>2</td>\n",
              "      <td>Agentes de la Policía Nacional han detenido en...</td>\n",
              "      <td>Los detenidos la invitan a su domicilio y la e...</td>\n",
              "      <td>Los detenidos la invitan a su domicilio y la e...</td>\n",
              "      <td>Agentes de la Policía Nacional han detenido en...</td>\n",
              "    </tr>\n",
              "    <tr>\n",
              "      <th>3</th>\n",
              "      <td>3</td>\n",
              "      <td>Consumir ibuprofeno sin receta médica aumenta ...</td>\n",
              "      <td>Un estudio realizado en Dinamarca alerta sobre...</td>\n",
              "      <td>Un estudio realizado en Dinamarca alerta sobre...</td>\n",
              "      <td>Consumir ibuprofeno sin receta médica aumenta ...</td>\n",
              "    </tr>\n",
              "    <tr>\n",
              "      <th>4</th>\n",
              "      <td>4</td>\n",
              "      <td>Hay arroces y arroces, pero ¿cuántas veces te ...</td>\n",
              "      <td>Miquel Antoja te enseña paso a paso cómo hacer...</td>\n",
              "      <td>Miquel Antoja te enseña paso a paso cómo hacer...</td>\n",
              "      <td>Hay arroces y arroces, pero ¿cuántas veces te ...</td>\n",
              "    </tr>\n",
              "    <tr>\n",
              "      <th>...</th>\n",
              "      <td>...</td>\n",
              "      <td>...</td>\n",
              "      <td>...</td>\n",
              "      <td>...</td>\n",
              "      <td>...</td>\n",
              "    </tr>\n",
              "    <tr>\n",
              "      <th>42592</th>\n",
              "      <td>42592</td>\n",
              "      <td>Un equipo de investigadores canadienses ha enc...</td>\n",
              "      <td>El camu-camu contiene entre 20 y 30 veces más ...</td>\n",
              "      <td>El camu-camu contiene entre 20 y 30 veces más ...</td>\n",
              "      <td>Un equipo de investigadores canadienses ha enc...</td>\n",
              "    </tr>\n",
              "    <tr>\n",
              "      <th>42593</th>\n",
              "      <td>42593</td>\n",
              "      <td>Belén Canalejo, autora del exitoso blog Balamo...</td>\n",
              "      <td>La autora del exitoso blog Balamoda.net nos of...</td>\n",
              "      <td>La autora del exitoso blog Balamoda.net nos of...</td>\n",
              "      <td>Belén Canalejo, autora del exitoso blog Balamo...</td>\n",
              "    </tr>\n",
              "    <tr>\n",
              "      <th>42594</th>\n",
              "      <td>42594</td>\n",
              "      <td>La sociedad Azora cobrará 224,5 millones de eu...</td>\n",
              "      <td>La sociedad gestora pone fin a su contrato con...</td>\n",
              "      <td>La sociedad gestora pone fin a su contrato con...</td>\n",
              "      <td>La sociedad Azora cobrará 224,5 millones de eu...</td>\n",
              "    </tr>\n",
              "    <tr>\n",
              "      <th>42595</th>\n",
              "      <td>42595</td>\n",
              "      <td>Imagen correspondiente a los bombardeos sobre ...</td>\n",
              "      <td>Los Comités de Coordinación Local aseguran que...</td>\n",
              "      <td>Los Comités de Coordinación Local aseguran que...</td>\n",
              "      <td>Imagen correspondiente a los bombardeos sobre ...</td>\n",
              "    </tr>\n",
              "    <tr>\n",
              "      <th>42596</th>\n",
              "      <td>42596</td>\n",
              "      <td>El acuerdo de legislatura que han suscrito PSO...</td>\n",
              "      <td>El acuerdo de legislatura prevé bajar el IVA c...</td>\n",
              "      <td>El acuerdo de legislatura prevé bajar el IVA c...</td>\n",
              "      <td>El acuerdo de legislatura que han suscrito PSO...</td>\n",
              "    </tr>\n",
              "  </tbody>\n",
              "</table>\n",
              "<p>42597 rows × 5 columns</p>\n",
              "</div>\n",
              "      <button class=\"colab-df-convert\" onclick=\"convertToInteractive('df-09e3bd51-d354-4e95-b195-ae15fc493dcb')\"\n",
              "              title=\"Convert this dataframe to an interactive table.\"\n",
              "              style=\"display:none;\">\n",
              "        \n",
              "  <svg xmlns=\"http://www.w3.org/2000/svg\" height=\"24px\"viewBox=\"0 0 24 24\"\n",
              "       width=\"24px\">\n",
              "    <path d=\"M0 0h24v24H0V0z\" fill=\"none\"/>\n",
              "    <path d=\"M18.56 5.44l.94 2.06.94-2.06 2.06-.94-2.06-.94-.94-2.06-.94 2.06-2.06.94zm-11 1L8.5 8.5l.94-2.06 2.06-.94-2.06-.94L8.5 2.5l-.94 2.06-2.06.94zm10 10l.94 2.06.94-2.06 2.06-.94-2.06-.94-.94-2.06-.94 2.06-2.06.94z\"/><path d=\"M17.41 7.96l-1.37-1.37c-.4-.4-.92-.59-1.43-.59-.52 0-1.04.2-1.43.59L10.3 9.45l-7.72 7.72c-.78.78-.78 2.05 0 2.83L4 21.41c.39.39.9.59 1.41.59.51 0 1.02-.2 1.41-.59l7.78-7.78 2.81-2.81c.8-.78.8-2.07 0-2.86zM5.41 20L4 18.59l7.72-7.72 1.47 1.35L5.41 20z\"/>\n",
              "  </svg>\n",
              "      </button>\n",
              "      \n",
              "  <style>\n",
              "    .colab-df-container {\n",
              "      display:flex;\n",
              "      flex-wrap:wrap;\n",
              "      gap: 12px;\n",
              "    }\n",
              "\n",
              "    .colab-df-convert {\n",
              "      background-color: #E8F0FE;\n",
              "      border: none;\n",
              "      border-radius: 50%;\n",
              "      cursor: pointer;\n",
              "      display: none;\n",
              "      fill: #1967D2;\n",
              "      height: 32px;\n",
              "      padding: 0 0 0 0;\n",
              "      width: 32px;\n",
              "    }\n",
              "\n",
              "    .colab-df-convert:hover {\n",
              "      background-color: #E2EBFA;\n",
              "      box-shadow: 0px 1px 2px rgba(60, 64, 67, 0.3), 0px 1px 3px 1px rgba(60, 64, 67, 0.15);\n",
              "      fill: #174EA6;\n",
              "    }\n",
              "\n",
              "    [theme=dark] .colab-df-convert {\n",
              "      background-color: #3B4455;\n",
              "      fill: #D2E3FC;\n",
              "    }\n",
              "\n",
              "    [theme=dark] .colab-df-convert:hover {\n",
              "      background-color: #434B5C;\n",
              "      box-shadow: 0px 1px 3px 1px rgba(0, 0, 0, 0.15);\n",
              "      filter: drop-shadow(0px 1px 2px rgba(0, 0, 0, 0.3));\n",
              "      fill: #FFFFFF;\n",
              "    }\n",
              "  </style>\n",
              "\n",
              "      <script>\n",
              "        const buttonEl =\n",
              "          document.querySelector('#df-09e3bd51-d354-4e95-b195-ae15fc493dcb button.colab-df-convert');\n",
              "        buttonEl.style.display =\n",
              "          google.colab.kernel.accessAllowed ? 'block' : 'none';\n",
              "\n",
              "        async function convertToInteractive(key) {\n",
              "          const element = document.querySelector('#df-09e3bd51-d354-4e95-b195-ae15fc493dcb');\n",
              "          const dataTable =\n",
              "            await google.colab.kernel.invokeFunction('convertToInteractive',\n",
              "                                                     [key], {});\n",
              "          if (!dataTable) return;\n",
              "\n",
              "          const docLinkHtml = 'Like what you see? Visit the ' +\n",
              "            '<a target=\"_blank\" href=https://colab.research.google.com/notebooks/data_table.ipynb>data table notebook</a>'\n",
              "            + ' to learn more about interactive tables.';\n",
              "          element.innerHTML = '';\n",
              "          dataTable['output_type'] = 'display_data';\n",
              "          await google.colab.output.renderOutput(dataTable, element);\n",
              "          const docLink = document.createElement('div');\n",
              "          docLink.innerHTML = docLinkHtml;\n",
              "          element.appendChild(docLink);\n",
              "        }\n",
              "      </script>\n",
              "    </div>\n",
              "  </div>\n",
              "  "
            ]
          },
          "metadata": {},
          "execution_count": 46
        }
      ]
    },
    {
      "cell_type": "code",
      "source": [
        "df.info()"
      ],
      "metadata": {
        "colab": {
          "base_uri": "https://localhost:8080/"
        },
        "id": "-J8cBxsrdZ75",
        "outputId": "76b11081-a9a3-4d08-c220-44f44242f58b"
      },
      "execution_count": null,
      "outputs": [
        {
          "output_type": "stream",
          "name": "stdout",
          "text": [
            "<class 'pandas.core.frame.DataFrame'>\n",
            "RangeIndex: 42597 entries, 0 to 42596\n",
            "Data columns (total 3 columns):\n",
            " #   Column      Non-Null Count  Dtype \n",
            "---  ------      --------------  ----- \n",
            " 0   Unnamed: 0  42597 non-null  int64 \n",
            " 1   0           42597 non-null  object\n",
            " 2   1           42597 non-null  object\n",
            "dtypes: int64(1), object(2)\n",
            "memory usage: 998.5+ KB\n"
          ]
        }
      ]
    },
    {
      "cell_type": "code",
      "source": [
        "df[\"summary\"]=df[\"1\"]"
      ],
      "metadata": {
        "id": "Vk8pyXPSds1l"
      },
      "execution_count": null,
      "outputs": []
    },
    {
      "cell_type": "code",
      "source": [
        "df[\"text\"]=df[\"0\"]"
      ],
      "metadata": {
        "id": "kQgxbUe8d8pn"
      },
      "execution_count": null,
      "outputs": []
    },
    {
      "cell_type": "code",
      "source": [
        "df[\"text\"][36153]"
      ],
      "metadata": {
        "colab": {
          "base_uri": "https://localhost:8080/",
          "height": 105
        },
        "id": "b8DZs4ILeGBl",
        "outputId": "0fafd715-11a7-4fde-ef7d-4a8dafe0f7ba"
      },
      "execution_count": null,
      "outputs": [
        {
          "output_type": "execute_result",
          "data": {
            "text/plain": [
              "'Los partidos del Pacte del Grau –PSPV, Compromís y Castelló en Moviment- han aprobado en el pleno de hoy una moción de censura conjunta para la retirada de todos los símbolos franquistas de la ciudad. Para el Partido Popular, que acusa a los partidos del Pacte de “sectarios y totalitarios”, el monumento -inaugurado en 1939 con el lema “Caídos por Dios y por España”- supone un homenaje a \"las víctimas que a lo largo de la historia reciente de nuestro país han pagado con su vida\" para conseguir la actual democracia española. El Partido Popular considera, además, que la intención de retirar la cruz es una \"maniobra electoral\" que rompe los consensos de la transición y es \"una nueva muestra de persecución de los símbolos católicos\". Desde Ciudadanos coinciden en que la cruz es únicamente un símbolo religioso. Además, declaran que este no es un tema que preocupe a la gente de Castellón y que tiene más que ver con cumplir un “ideario partidista que traslada los complejos de identidad, odios y rencores”. A pesar de que en un principio existían discrepancias sobre qué órgano debía iniciar el procedimiento administrativo y cómo llevarlo a cabo, la portavoz de Compromís, Verónica Ruíz, anunciaba que los partidos del pacto han llegado finalmente a un acuerdo\\xa0 y será Cultura –y no a Urbanismo, como en principio defendía Compromís- quien dé comienzo a los procedimientos para retirar la cruz franquista de Ribalta. Desde el grupo socialista han expresado su alegría por el acuerdo obtenido y manifiestan que el añadir la enmienda correspondía a un intento por asegurarse de que se cumplían todas las garantías ya que consideran “la voluntad política no está por encima del resto de factores en la toma de decisiones”. Los partidos del pacto también han destacado los informes del Comité de Expertos, adscritos a la Conselleria de Justicia -que indica el carácter franquista del monumento-, para negar que la cruz suponga únicamente un símbolo religioso. Señalaban, además, que el lugar se utiliza para homenajear el franquismo y la necesidad de hacer cumplir la Ley de Memoria Histórica.'"
            ],
            "application/vnd.google.colaboratory.intrinsic+json": {
              "type": "string"
            }
          },
          "metadata": {},
          "execution_count": 8
        }
      ]
    },
    {
      "cell_type": "code",
      "source": [
        "df[\"summary\"][36153]"
      ],
      "metadata": {
        "colab": {
          "base_uri": "https://localhost:8080/",
          "height": 52
        },
        "id": "U5Qn01LqeLHj",
        "outputId": "5a08fc29-3c17-471f-a3f2-a618d170939f"
      },
      "execution_count": null,
      "outputs": [
        {
          "output_type": "execute_result",
          "data": {
            "text/plain": [
              "'La moción aprobada plantea, además, la eliminación de todos los símbolos franquistas de la ciudad. Para los colectivos de defensa de la cruz, vinculados al Partido Popular, lo que motiva la retirada de esta cruz es “sólo el odio a todo lo que huele a religión”.'"
            ],
            "application/vnd.google.colaboratory.intrinsic+json": {
              "type": "string"
            }
          },
          "metadata": {},
          "execution_count": 9
        }
      ]
    },
    {
      "cell_type": "code",
      "source": [
        "import zipfile\n",
        "with zipfile.ZipFile(\"./trainS.zip\", 'r') as zip_ref:\n",
        "    zip_ref.extractall(\"trainS\")"
      ],
      "metadata": {
        "id": "oIHwBLak7CMy"
      },
      "execution_count": null,
      "outputs": []
    },
    {
      "cell_type": "code",
      "source": [
        "import pandas as pd\n",
        "df1 = pd.read_json(\"./trainS/trainS/text1.json\")\n",
        "df1"
      ],
      "metadata": {
        "colab": {
          "base_uri": "https://localhost:8080/",
          "height": 300
        },
        "id": "7YAcZEcS7TPb",
        "outputId": "6dd17c6c-e4f3-4442-c576-3f8a8cf47a4f"
      },
      "execution_count": null,
      "outputs": [
        {
          "output_type": "execute_result",
          "data": {
            "text/plain": [
              "                                               @text  @confidence  @support  \\\n",
              "0  El presidente de la Sociedad de Garantía Recíp...         0.75         0   \n",
              "1  El presidente de la Sociedad de Garantía Recíp...         0.75         0   \n",
              "2  El presidente de la Sociedad de Garantía Recíp...         0.75         0   \n",
              "3  El presidente de la Sociedad de Garantía Recíp...         0.75         0   \n",
              "4  El presidente de la Sociedad de Garantía Recíp...         0.75         0   \n",
              "5  El presidente de la Sociedad de Garantía Recíp...         0.75         0   \n",
              "6  El presidente de la Sociedad de Garantía Recíp...         0.75         0   \n",
              "7  El presidente de la Sociedad de Garantía Recíp...         0.75         0   \n",
              "\n",
              "  @types @sparql    @policy                                          Resources  \n",
              "0                 whitelist  {'@URI': 'http://es.dbpedia.org/resource/Ponga...  \n",
              "1                 whitelist  {'@URI': 'http://es.dbpedia.org/resource/Agenc...  \n",
              "2                 whitelist  {'@URI': 'http://es.dbpedia.org/resource/Banco...  \n",
              "3                 whitelist  {'@URI': 'http://es.dbpedia.org/resource/Levan...  \n",
              "4                 whitelist  {'@URI': 'http://es.dbpedia.org/resource/Banco...  \n",
              "5                 whitelist  {'@URI': 'http://es.dbpedia.org/resource/Banco...  \n",
              "6                 whitelist  {'@URI': 'http://es.dbpedia.org/resource/Madri...  \n",
              "7                 whitelist  {'@URI': 'http://es.dbpedia.org/resource/Banco...  "
            ],
            "text/html": [
              "\n",
              "  <div id=\"df-5e1d26d6-e5e4-45f2-b7c4-020df1ddbaf6\">\n",
              "    <div class=\"colab-df-container\">\n",
              "      <div>\n",
              "<style scoped>\n",
              "    .dataframe tbody tr th:only-of-type {\n",
              "        vertical-align: middle;\n",
              "    }\n",
              "\n",
              "    .dataframe tbody tr th {\n",
              "        vertical-align: top;\n",
              "    }\n",
              "\n",
              "    .dataframe thead th {\n",
              "        text-align: right;\n",
              "    }\n",
              "</style>\n",
              "<table border=\"1\" class=\"dataframe\">\n",
              "  <thead>\n",
              "    <tr style=\"text-align: right;\">\n",
              "      <th></th>\n",
              "      <th>@text</th>\n",
              "      <th>@confidence</th>\n",
              "      <th>@support</th>\n",
              "      <th>@types</th>\n",
              "      <th>@sparql</th>\n",
              "      <th>@policy</th>\n",
              "      <th>Resources</th>\n",
              "    </tr>\n",
              "  </thead>\n",
              "  <tbody>\n",
              "    <tr>\n",
              "      <th>0</th>\n",
              "      <td>El presidente de la Sociedad de Garantía Recíp...</td>\n",
              "      <td>0.75</td>\n",
              "      <td>0</td>\n",
              "      <td></td>\n",
              "      <td></td>\n",
              "      <td>whitelist</td>\n",
              "      <td>{'@URI': 'http://es.dbpedia.org/resource/Ponga...</td>\n",
              "    </tr>\n",
              "    <tr>\n",
              "      <th>1</th>\n",
              "      <td>El presidente de la Sociedad de Garantía Recíp...</td>\n",
              "      <td>0.75</td>\n",
              "      <td>0</td>\n",
              "      <td></td>\n",
              "      <td></td>\n",
              "      <td>whitelist</td>\n",
              "      <td>{'@URI': 'http://es.dbpedia.org/resource/Agenc...</td>\n",
              "    </tr>\n",
              "    <tr>\n",
              "      <th>2</th>\n",
              "      <td>El presidente de la Sociedad de Garantía Recíp...</td>\n",
              "      <td>0.75</td>\n",
              "      <td>0</td>\n",
              "      <td></td>\n",
              "      <td></td>\n",
              "      <td>whitelist</td>\n",
              "      <td>{'@URI': 'http://es.dbpedia.org/resource/Banco...</td>\n",
              "    </tr>\n",
              "    <tr>\n",
              "      <th>3</th>\n",
              "      <td>El presidente de la Sociedad de Garantía Recíp...</td>\n",
              "      <td>0.75</td>\n",
              "      <td>0</td>\n",
              "      <td></td>\n",
              "      <td></td>\n",
              "      <td>whitelist</td>\n",
              "      <td>{'@URI': 'http://es.dbpedia.org/resource/Levan...</td>\n",
              "    </tr>\n",
              "    <tr>\n",
              "      <th>4</th>\n",
              "      <td>El presidente de la Sociedad de Garantía Recíp...</td>\n",
              "      <td>0.75</td>\n",
              "      <td>0</td>\n",
              "      <td></td>\n",
              "      <td></td>\n",
              "      <td>whitelist</td>\n",
              "      <td>{'@URI': 'http://es.dbpedia.org/resource/Banco...</td>\n",
              "    </tr>\n",
              "    <tr>\n",
              "      <th>5</th>\n",
              "      <td>El presidente de la Sociedad de Garantía Recíp...</td>\n",
              "      <td>0.75</td>\n",
              "      <td>0</td>\n",
              "      <td></td>\n",
              "      <td></td>\n",
              "      <td>whitelist</td>\n",
              "      <td>{'@URI': 'http://es.dbpedia.org/resource/Banco...</td>\n",
              "    </tr>\n",
              "    <tr>\n",
              "      <th>6</th>\n",
              "      <td>El presidente de la Sociedad de Garantía Recíp...</td>\n",
              "      <td>0.75</td>\n",
              "      <td>0</td>\n",
              "      <td></td>\n",
              "      <td></td>\n",
              "      <td>whitelist</td>\n",
              "      <td>{'@URI': 'http://es.dbpedia.org/resource/Madri...</td>\n",
              "    </tr>\n",
              "    <tr>\n",
              "      <th>7</th>\n",
              "      <td>El presidente de la Sociedad de Garantía Recíp...</td>\n",
              "      <td>0.75</td>\n",
              "      <td>0</td>\n",
              "      <td></td>\n",
              "      <td></td>\n",
              "      <td>whitelist</td>\n",
              "      <td>{'@URI': 'http://es.dbpedia.org/resource/Banco...</td>\n",
              "    </tr>\n",
              "  </tbody>\n",
              "</table>\n",
              "</div>\n",
              "      <button class=\"colab-df-convert\" onclick=\"convertToInteractive('df-5e1d26d6-e5e4-45f2-b7c4-020df1ddbaf6')\"\n",
              "              title=\"Convert this dataframe to an interactive table.\"\n",
              "              style=\"display:none;\">\n",
              "        \n",
              "  <svg xmlns=\"http://www.w3.org/2000/svg\" height=\"24px\"viewBox=\"0 0 24 24\"\n",
              "       width=\"24px\">\n",
              "    <path d=\"M0 0h24v24H0V0z\" fill=\"none\"/>\n",
              "    <path d=\"M18.56 5.44l.94 2.06.94-2.06 2.06-.94-2.06-.94-.94-2.06-.94 2.06-2.06.94zm-11 1L8.5 8.5l.94-2.06 2.06-.94-2.06-.94L8.5 2.5l-.94 2.06-2.06.94zm10 10l.94 2.06.94-2.06 2.06-.94-2.06-.94-.94-2.06-.94 2.06-2.06.94z\"/><path d=\"M17.41 7.96l-1.37-1.37c-.4-.4-.92-.59-1.43-.59-.52 0-1.04.2-1.43.59L10.3 9.45l-7.72 7.72c-.78.78-.78 2.05 0 2.83L4 21.41c.39.39.9.59 1.41.59.51 0 1.02-.2 1.41-.59l7.78-7.78 2.81-2.81c.8-.78.8-2.07 0-2.86zM5.41 20L4 18.59l7.72-7.72 1.47 1.35L5.41 20z\"/>\n",
              "  </svg>\n",
              "      </button>\n",
              "      \n",
              "  <style>\n",
              "    .colab-df-container {\n",
              "      display:flex;\n",
              "      flex-wrap:wrap;\n",
              "      gap: 12px;\n",
              "    }\n",
              "\n",
              "    .colab-df-convert {\n",
              "      background-color: #E8F0FE;\n",
              "      border: none;\n",
              "      border-radius: 50%;\n",
              "      cursor: pointer;\n",
              "      display: none;\n",
              "      fill: #1967D2;\n",
              "      height: 32px;\n",
              "      padding: 0 0 0 0;\n",
              "      width: 32px;\n",
              "    }\n",
              "\n",
              "    .colab-df-convert:hover {\n",
              "      background-color: #E2EBFA;\n",
              "      box-shadow: 0px 1px 2px rgba(60, 64, 67, 0.3), 0px 1px 3px 1px rgba(60, 64, 67, 0.15);\n",
              "      fill: #174EA6;\n",
              "    }\n",
              "\n",
              "    [theme=dark] .colab-df-convert {\n",
              "      background-color: #3B4455;\n",
              "      fill: #D2E3FC;\n",
              "    }\n",
              "\n",
              "    [theme=dark] .colab-df-convert:hover {\n",
              "      background-color: #434B5C;\n",
              "      box-shadow: 0px 1px 3px 1px rgba(0, 0, 0, 0.15);\n",
              "      filter: drop-shadow(0px 1px 2px rgba(0, 0, 0, 0.3));\n",
              "      fill: #FFFFFF;\n",
              "    }\n",
              "  </style>\n",
              "\n",
              "      <script>\n",
              "        const buttonEl =\n",
              "          document.querySelector('#df-5e1d26d6-e5e4-45f2-b7c4-020df1ddbaf6 button.colab-df-convert');\n",
              "        buttonEl.style.display =\n",
              "          google.colab.kernel.accessAllowed ? 'block' : 'none';\n",
              "\n",
              "        async function convertToInteractive(key) {\n",
              "          const element = document.querySelector('#df-5e1d26d6-e5e4-45f2-b7c4-020df1ddbaf6');\n",
              "          const dataTable =\n",
              "            await google.colab.kernel.invokeFunction('convertToInteractive',\n",
              "                                                     [key], {});\n",
              "          if (!dataTable) return;\n",
              "\n",
              "          const docLinkHtml = 'Like what you see? Visit the ' +\n",
              "            '<a target=\"_blank\" href=https://colab.research.google.com/notebooks/data_table.ipynb>data table notebook</a>'\n",
              "            + ' to learn more about interactive tables.';\n",
              "          element.innerHTML = '';\n",
              "          dataTable['output_type'] = 'display_data';\n",
              "          await google.colab.output.renderOutput(dataTable, element);\n",
              "          const docLink = document.createElement('div');\n",
              "          docLink.innerHTML = docLinkHtml;\n",
              "          element.appendChild(docLink);\n",
              "        }\n",
              "      </script>\n",
              "    </div>\n",
              "  </div>\n",
              "  "
            ]
          },
          "metadata": {},
          "execution_count": 43
        }
      ]
    },
    {
      "cell_type": "code",
      "source": [
        "import zipfile\n",
        "with zipfile.ZipFile(\"./35conf.zip\", 'r') as zip_ref:\n",
        "    zip_ref.extractall(\"35conf\")"
      ],
      "metadata": {
        "id": "dCzcf6BZHyNq"
      },
      "execution_count": null,
      "outputs": []
    },
    {
      "cell_type": "code",
      "source": [
        "import pandas as pd\n",
        "df2 = pd.read_json(\"./35conf/35conf/text1.json\")\n",
        "df2"
      ],
      "metadata": {
        "id": "xYF_WxG3HtWz"
      },
      "execution_count": null,
      "outputs": []
    },
    {
      "cell_type": "code",
      "source": [
        "df1['Resources'][0]"
      ],
      "metadata": {
        "colab": {
          "base_uri": "https://localhost:8080/"
        },
        "id": "wUxghrNo7oMX",
        "outputId": "c33b3cb5-4ad1-466c-89c8-2a3d2f8c0f9f"
      },
      "execution_count": null,
      "outputs": [
        {
          "output_type": "execute_result",
          "data": {
            "text/plain": [
              "{'@URI': 'http://es.dbpedia.org/resource/Ponga',\n",
              " '@support': '131',\n",
              " '@types': 'Wikidata:Q3455524,Schema:Place,Schema:AdministrativeArea,DBpedia:Region,DBpedia:PopulatedPlace,DBpedia:Place,DBpedia:Location,DBpedia:GovernmentalAdministrativeRegion,DBpedia:AdministrativeRegion,DBpedia:Municipality',\n",
              " '@surfaceForm': 'ponga',\n",
              " '@offset': '443',\n",
              " '@similarityScore': '0.9999999999997726',\n",
              " '@percentageOfSecondRank': '0.0'}"
            ]
          },
          "metadata": {},
          "execution_count": 48
        }
      ]
    },
    {
      "cell_type": "code",
      "source": [
        "[[],[]]"
      ],
      "metadata": {
        "id": "I2xYIv_et0Dm"
      },
      "execution_count": null,
      "outputs": []
    },
    {
      "cell_type": "code",
      "source": [
        "df1['Resources'][1]['@support']"
      ],
      "metadata": {
        "colab": {
          "base_uri": "https://localhost:8080/",
          "height": 35
        },
        "id": "KhQP_JLo8F3i",
        "outputId": "7421c24a-6e21-456e-b9ff-2e27a1af6bcd"
      },
      "execution_count": null,
      "outputs": [
        {
          "output_type": "execute_result",
          "data": {
            "text/plain": [
              "'841'"
            ],
            "application/vnd.google.colaboratory.intrinsic+json": {
              "type": "string"
            }
          },
          "metadata": {},
          "execution_count": 25
        }
      ]
    },
    {
      "cell_type": "code",
      "source": [
        "df1['Resources'][1]['@surfaceForm']"
      ],
      "metadata": {
        "id": "ydXzcHEtrmAE"
      },
      "execution_count": null,
      "outputs": []
    },
    {
      "cell_type": "code",
      "source": [
        "df1['Resources'][1]['@types']"
      ],
      "metadata": {
        "colab": {
          "base_uri": "https://localhost:8080/",
          "height": 35
        },
        "id": "CdslMvBV80Sy",
        "outputId": "fda800eb-7c07-4778-a6c6-4c0a51952afb"
      },
      "execution_count": null,
      "outputs": [
        {
          "output_type": "execute_result",
          "data": {
            "text/plain": [
              "'Wikidata:Q43229,Wikidata:Q24229398,DUL:SocialPerson,DUL:Agent,Schema:Organization,DBpedia:Agent,DBpedia:Organisation'"
            ],
            "application/vnd.google.colaboratory.intrinsic+json": {
              "type": "string"
            }
          },
          "metadata": {},
          "execution_count": 85
        }
      ]
    },
    {
      "cell_type": "code",
      "source": [
        "  def encontrar(df1,df2,j,suport):\n",
        "    si=0;\n",
        "    if int(df1['Resources'][j]['@support'])>suport:\n",
        "      if df1['Resources'][j]['@URI']==df1['Resources'][j]['@URI']:\n",
        "        si=1\n",
        "    return si\n",
        ""
      ],
      "metadata": {
        "id": "_kEsEJGVHcu8"
      },
      "execution_count": null,
      "outputs": []
    },
    {
      "cell_type": "code",
      "source": [
        "  resultado=[]\n",
        "  for j in range(0,len(df1['Resources'])):\n",
        "    a=encontrar(df1,j,300)\n",
        "    if a==1:\n",
        "      resultado.append(j)\n",
        "\n",
        "  resultado"
      ],
      "metadata": {
        "id": "LQk5GP-IFTtJ"
      },
      "execution_count": null,
      "outputs": []
    },
    {
      "cell_type": "code",
      "source": [
        "df3=df.iloc[resultado].copy()"
      ],
      "metadata": {
        "id": "k3hlbg958JQb"
      },
      "execution_count": null,
      "outputs": []
    },
    {
      "cell_type": "code",
      "source": [
        "df3.to_csv(\"700tokensNoHal.csv\", sep=';')"
      ],
      "metadata": {
        "id": "1fEjNta6JF4f"
      },
      "execution_count": null,
      "outputs": []
    }
  ]
}